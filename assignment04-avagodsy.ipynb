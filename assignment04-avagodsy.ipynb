{
 "cells": [
  {
   "cell_type": "markdown",
   "id": "52c2536a",
   "metadata": {},
   "source": [
    "---\n",
    "title: Assignment 04\n",
    "author:\n",
    "  - name: Ava Godsy\n",
    "    affiliations:\n",
    "      - id: bu\n",
    "        name: Boston University\n",
    "        city: Boston\n",
    "        state: MA\n",
    "number-sections: true\n",
    "date: today\n",
    "date-modified: today\n",
    "date-format: long\n",
    "format:\n",
    "  html:\n",
    "    theme: cerulean\n",
    "    toc: true\n",
    "    toc-depth: 2\n",
    "  docx: default\n",
    "  pdf: default\n",
    "execute:\n",
    "  echo: false\n",
    "  eval: false\n",
    "  freeze: auto\n",
    "---"
   ]
  },
  {
   "cell_type": "code",
   "execution_count": null,
   "id": "b72b3d55",
   "metadata": {},
   "outputs": [
    {
     "name": "stderr",
     "output_type": "stream",
     "text": [
      "                                                                                \r"
     ]
    },
    {
     "name": "stdout",
     "output_type": "stream",
     "text": [
      "---This is Diagnostic check, No need to print it in the final doc---\n"
     ]
    },
    {
     "name": "stderr",
     "output_type": "stream",
     "text": [
      "25/10/07 02:25:48 WARN SparkStringUtils: Truncated the string representation of a plan since it was too large. This behavior can be adjusted by setting 'spark.sql.debug.maxToStringFields'.\n",
      "                                                                                \r"
     ]
    },
    {
     "name": "stdout",
     "output_type": "stream",
     "text": [
      "+--------------------+-----------------+----------------------+----------+--------+---------+--------+--------------------+--------------------+--------------------+-----------+-------------------+--------------------+--------------------+---------------+----------------+--------+--------------------+-----------+-------------------+----------------+---------------------+-------------+-------------------+-------------+------------------+---------------+--------------------+--------------------+--------------------+-------------+------+-----------+----------------+-------------------+---------+-----------+--------------------+--------------------+-------------+------+--------------+-----+--------------------+-----+----------+---------------+--------------------+---------------+--------------------+------------+--------------------+------------+--------------------+------+--------------------+------+--------------------+------+--------------------+------+--------------------+------+--------------------+------------------+-------------------+--------------------+--------------------+--------------------+--------------------+-----------------------+--------------------+--------------------+--------------------+--------------------+--------------------+--------------------+----------+--------------------+----------+--------------------+--------------------+--------------------+--------------------+--------------------+--------------------+--------------------+----------+--------------------+----------+--------------------+----------+---------------+----------+---------------+---------------+--------------------+--------------+--------------------+--------------------------+-------------------------------+--------------------+-------------------------+-----------------------------+----------------------------------+-----------------+----------------------+-----------------------+----------------------------+------------------+-----------------------+-------+--------------------+-------+--------------------+-------+---------------+-------+---------------+-----------------+----------------------+------------+--------------------+------------+--------------------+------------+--------------------+------------+--------------------+------------+--------------------+\n",
      "|                  ID|LAST_UPDATED_DATE|LAST_UPDATED_TIMESTAMP|DUPLICATES|  POSTED|  EXPIRED|DURATION|        SOURCE_TYPES|             SOURCES|                 URL|ACTIVE_URLS|ACTIVE_SOURCES_INFO|           TITLE_RAW|                BODY|MODELED_EXPIRED|MODELED_DURATION| COMPANY|        COMPANY_NAME|COMPANY_RAW|COMPANY_IS_STAFFING|EDUCATION_LEVELS|EDUCATION_LEVELS_NAME|MIN_EDULEVELS| MIN_EDULEVELS_NAME|MAX_EDULEVELS|MAX_EDULEVELS_NAME|EMPLOYMENT_TYPE|EMPLOYMENT_TYPE_NAME|MIN_YEARS_EXPERIENCE|MAX_YEARS_EXPERIENCE|IS_INTERNSHIP|SALARY|REMOTE_TYPE|REMOTE_TYPE_NAME|ORIGINAL_PAY_PERIOD|SALARY_TO|SALARY_FROM|            LOCATION|                CITY|    CITY_NAME|COUNTY|   COUNTY_NAME|  MSA|            MSA_NAME|STATE|STATE_NAME|COUNTY_OUTGOING|COUNTY_NAME_OUTGOING|COUNTY_INCOMING|COUNTY_NAME_INCOMING|MSA_OUTGOING|   MSA_NAME_OUTGOING|MSA_INCOMING|   MSA_NAME_INCOMING|NAICS2|         NAICS2_NAME|NAICS3|         NAICS3_NAME|NAICS4|         NAICS4_NAME|NAICS5|         NAICS5_NAME|NAICS6|         NAICS6_NAME|             TITLE|         TITLE_NAME|         TITLE_CLEAN|              SKILLS|         SKILLS_NAME|  SPECIALIZED_SKILLS|SPECIALIZED_SKILLS_NAME|      CERTIFICATIONS| CERTIFICATIONS_NAME|       COMMON_SKILLS|  COMMON_SKILLS_NAME|     SOFTWARE_SKILLS|SOFTWARE_SKILLS_NAME|      ONET|           ONET_NAME| ONET_2019|      ONET_2019_NAME|                CIP6|           CIP6_NAME|                CIP4|           CIP4_NAME|                CIP2|           CIP2_NAME|SOC_2021_2|     SOC_2021_2_NAME|SOC_2021_3|     SOC_2021_3_NAME|SOC_2021_4|SOC_2021_4_NAME|SOC_2021_5|SOC_2021_5_NAME|LOT_CAREER_AREA|LOT_CAREER_AREA_NAME|LOT_OCCUPATION| LOT_OCCUPATION_NAME|LOT_SPECIALIZED_OCCUPATION|LOT_SPECIALIZED_OCCUPATION_NAME|LOT_OCCUPATION_GROUP|LOT_OCCUPATION_GROUP_NAME|LOT_V6_SPECIALIZED_OCCUPATION|LOT_V6_SPECIALIZED_OCCUPATION_NAME|LOT_V6_OCCUPATION|LOT_V6_OCCUPATION_NAME|LOT_V6_OCCUPATION_GROUP|LOT_V6_OCCUPATION_GROUP_NAME|LOT_V6_CAREER_AREA|LOT_V6_CAREER_AREA_NAME|  SOC_2|          SOC_2_NAME|  SOC_3|          SOC_3_NAME|  SOC_4|     SOC_4_NAME|  SOC_5|     SOC_5_NAME|LIGHTCAST_SECTORS|LIGHTCAST_SECTORS_NAME|NAICS_2022_2|   NAICS_2022_2_NAME|NAICS_2022_3|   NAICS_2022_3_NAME|NAICS_2022_4|   NAICS_2022_4_NAME|NAICS_2022_5|   NAICS_2022_5_NAME|NAICS_2022_6|   NAICS_2022_6_NAME|\n",
      "+--------------------+-----------------+----------------------+----------+--------+---------+--------+--------------------+--------------------+--------------------+-----------+-------------------+--------------------+--------------------+---------------+----------------+--------+--------------------+-----------+-------------------+----------------+---------------------+-------------+-------------------+-------------+------------------+---------------+--------------------+--------------------+--------------------+-------------+------+-----------+----------------+-------------------+---------+-----------+--------------------+--------------------+-------------+------+--------------+-----+--------------------+-----+----------+---------------+--------------------+---------------+--------------------+------------+--------------------+------------+--------------------+------+--------------------+------+--------------------+------+--------------------+------+--------------------+------+--------------------+------------------+-------------------+--------------------+--------------------+--------------------+--------------------+-----------------------+--------------------+--------------------+--------------------+--------------------+--------------------+--------------------+----------+--------------------+----------+--------------------+--------------------+--------------------+--------------------+--------------------+--------------------+--------------------+----------+--------------------+----------+--------------------+----------+---------------+----------+---------------+---------------+--------------------+--------------+--------------------+--------------------------+-------------------------------+--------------------+-------------------------+-----------------------------+----------------------------------+-----------------+----------------------+-----------------------+----------------------------+------------------+-----------------------+-------+--------------------+-------+--------------------+-------+---------------+-------+---------------+-----------------+----------------------+------------+--------------------+------------+--------------------+------------+--------------------+------------+--------------------+------------+--------------------+\n",
      "|1f57d95acf4dc67ed...|         9/6/2024|  2024-09-06 20:32:...|         0|6/2/2024| 6/8/2024|       6|   [\\n  \"Company\"\\n]|[\\n  \"brassring.c...|[\\n  \"https://sjo...|         []|               NULL|Enterprise Analys...|31-May-2024\\n\\nEn...|       6/8/2024|               6|  894731|          Murphy USA| Murphy USA|              false|       [\\n  2\\n]| [\\n  \"Bachelor's ...|            2|  Bachelor's degree|         NULL|              NULL|              1|Full-time (> 32 h...|                   2|                   2|        false|  NULL|          0|          [None]|               NULL|     NULL|       NULL|{\\n  \"lat\": 33.20...|RWwgRG9yYWRvLCBBUg==|El Dorado, AR|  5139|     Union, AR|20980|       El Dorado, AR|    5|  Arkansas|           5139|           Union, AR|           5139|           Union, AR|       20980|       El Dorado, AR|       20980|       El Dorado, AR|    44|        Retail Trade|   441|Motor Vehicle and...|  4413|Automotive Parts,...| 44133|Automotive Parts ...|441330|Automotive Parts ...|ET29C073C03D1F86B4|Enterprise Analysts|enterprise analys...|[\\n  \"KS126DB6T06...|[\\n  \"Merchandisi...|[\\n  \"KS126DB6T06...|   [\\n  \"Merchandisi...|                  []|                  []|[\\n  \"KS126706DPF...|[\\n  \"Mathematics...|[\\n  \"KS440W865GC...|[\\n  \"SQL (Progra...|15-2051.01|Business Intellig...|15-2051.01|Business Intellig...|[\\n  \"45.0601\",\\n...|[\\n  \"Economics, ...|[\\n  \"45.06\",\\n  ...|[\\n  \"Economics\",...|[\\n  \"45\",\\n  \"27...|[\\n  \"Social Scie...|   15-0000|Computer and Math...|   15-2000|Mathematical Scie...|   15-2050|Data Scientists|   15-2051|Data Scientists|             23|Information Techn...|        231010|Business Intellig...|                  23101011|           General ERP Analy...|                2310|     Business Intellig...|                     23101011|              General ERP Analy...|           231010|  Business Intellig...|                   2310|        Business Intellig...|                23|   Information Techn...|15-0000|Computer and Math...|15-2000|Mathematical Scie...|15-2050|Data Scientists|15-2051|Data Scientists|        [\\n  7\\n]|  [\\n  \"Artificial ...|          44|        Retail Trade|         441|Motor Vehicle and...|        4413|Automotive Parts,...|       44133|Automotive Parts ...|      441330|Automotive Parts ...|\n",
      "|0cb072af26757b6c4...|         8/2/2024|  2024-08-02 17:08:...|         0|6/2/2024| 8/1/2024|    NULL| [\\n  \"Job Board\"\\n]| [\\n  \"maine.gov\"\\n]|[\\n  \"https://job...|         []|               NULL|Oracle Consultant...|Oracle Consultant...|       8/1/2024|            NULL|  133098|Smx Corporation L...|        SMX|               true|      [\\n  99\\n]| [\\n  \"No Educatio...|           99|No Education Listed|         NULL|              NULL|              1|Full-time (> 32 h...|                   3|                   3|        false|  NULL|          1|          Remote|               NULL|     NULL|       NULL|{\\n  \"lat\": 44.31...|    QXVndXN0YSwgTUU=|  Augusta, ME| 23011|  Kennebec, ME|12300|Augusta-Watervill...|   23|     Maine|          23011|        Kennebec, ME|          23011|        Kennebec, ME|       12300|Augusta-Watervill...|       12300|Augusta-Watervill...|    56|Administrative an...|   561|Administrative an...|  5613| Employment Services| 56132|Temporary Help Se...|561320|Temporary Help Se...|ET21DDA63780A7DC09| Oracle Consultants|oracle consultant...|[\\n  \"KS122626T55...|[\\n  \"Procurement...|[\\n  \"KS122626T55...|   [\\n  \"Procurement...|                  []|                  []|                  []|                  []|[\\n  \"BGSBF3F508F...|[\\n  \"Oracle Busi...|15-2051.01|Business Intellig...|15-2051.01|Business Intellig...|                  []|                  []|                  []|                  []|                  []|                  []|   15-0000|Computer and Math...|   15-2000|Mathematical Scie...|   15-2050|Data Scientists|   15-2051|Data Scientists|             23|Information Techn...|        231010|Business Intellig...|                  23101012|           Oracle Consultant...|                2310|     Business Intellig...|                     23101012|              Oracle Consultant...|           231010|  Business Intellig...|                   2310|        Business Intellig...|                23|   Information Techn...|15-0000|Computer and Math...|15-2000|Mathematical Scie...|15-2050|Data Scientists|15-2051|Data Scientists|             NULL|                  NULL|          56|Administrative an...|         561|Administrative an...|        5613| Employment Services|       56132|Temporary Help Se...|      561320|Temporary Help Se...|\n",
      "|85318b12b3331fa49...|         9/6/2024|  2024-09-06 20:32:...|         1|6/2/2024| 7/7/2024|      35| [\\n  \"Job Board\"\\n]|[\\n  \"dejobs.org\"\\n]|[\\n  \"https://dej...|         []|               NULL|        Data Analyst|Taking care of pe...|      6/10/2024|               8|39063746|            Sedgwick|   Sedgwick|              false|       [\\n  2\\n]| [\\n  \"Bachelor's ...|            2|  Bachelor's degree|         NULL|              NULL|              1|Full-time (> 32 h...|                   5|                NULL|        false|  NULL|          0|          [None]|               NULL|     NULL|       NULL|{\\n  \"lat\": 32.77...|    RGFsbGFzLCBUWA==|   Dallas, TX| 48113|    Dallas, TX|19100|Dallas-Fort Worth...|   48|     Texas|          48113|          Dallas, TX|          48113|          Dallas, TX|       19100|Dallas-Fort Worth...|       19100|Dallas-Fort Worth...|    52|Finance and Insur...|   524|Insurance Carrier...|  5242|Agencies, Brokera...| 52429|Other Insurance R...|524291|    Claims Adjusting|ET3037E0C947A02404|      Data Analysts|        data analyst|[\\n  \"KS1218W78FG...|[\\n  \"Management\"...|[\\n  \"ESF3939CE1F...|   [\\n  \"Exception R...|[\\n  \"KS683TN76T7...|[\\n  \"Security Cl...|[\\n  \"KS1218W78FG...|[\\n  \"Management\"...|[\\n  \"KS126HY6YLT...|[\\n  \"Microsoft O...|15-2051.01|Business Intellig...|15-2051.01|Business Intellig...|                  []|                  []|                  []|                  []|                  []|                  []|   15-0000|Computer and Math...|   15-2000|Mathematical Scie...|   15-2050|Data Scientists|   15-2051|Data Scientists|             23|Information Techn...|        231113|Data / Data Minin...|                  23111310|                   Data Analyst|                2311|     Data Analysis and...|                     23111310|                      Data Analyst|           231113|  Data / Data Minin...|                   2311|        Data Analysis and...|                23|   Information Techn...|15-0000|Computer and Math...|15-2000|Mathematical Scie...|15-2050|Data Scientists|15-2051|Data Scientists|             NULL|                  NULL|          52|Finance and Insur...|         524|Insurance Carrier...|        5242|Agencies, Brokera...|       52429|Other Insurance R...|      524291|    Claims Adjusting|\n",
      "|1b5c3941e54a1889e...|         9/6/2024|  2024-09-06 20:32:...|         1|6/2/2024|7/20/2024|      48| [\\n  \"Job Board\"\\n]|[\\n  \"disabledper...|[\\n  \"https://www...|         []|               NULL|Sr. Lead Data Mgm...|About this role:\\...|      6/12/2024|              10|37615159|         Wells Fargo|Wells Fargo|              false|      [\\n  99\\n]| [\\n  \"No Educatio...|           99|No Education Listed|         NULL|              NULL|              1|Full-time (> 32 h...|                   3|                NULL|        false|  NULL|          0|          [None]|               NULL|     NULL|       NULL|{\\n  \"lat\": 33.44...|    UGhvZW5peCwgQVo=|  Phoenix, AZ|  4013|  Maricopa, AZ|38060|Phoenix-Mesa-Chan...|    4|   Arizona|           4013|        Maricopa, AZ|           4013|        Maricopa, AZ|       38060|Phoenix-Mesa-Chan...|       38060|Phoenix-Mesa-Chan...|    52|Finance and Insur...|   522|Credit Intermedia...|  5221|Depository Credit...| 52211|  Commercial Banking|522110|  Commercial Banking|ET2114E0404BA30075|Management Analysts|sr lead data mgmt...|[\\n  \"KS123QX62QY...|[\\n  \"Exit Strate...|[\\n  \"KS123QX62QY...|   [\\n  \"Exit Strate...|                  []|                  []|[\\n  \"KS7G6NP6R6L...|[\\n  \"Reliability...|[\\n  \"KS4409D76NW...|[\\n  \"SAS (Softwa...|15-2051.01|Business Intellig...|15-2051.01|Business Intellig...|                  []|                  []|                  []|                  []|                  []|                  []|   15-0000|Computer and Math...|   15-2000|Mathematical Scie...|   15-2050|Data Scientists|   15-2051|Data Scientists|             23|Information Techn...|        231113|Data / Data Minin...|                  23111310|                   Data Analyst|                2311|     Data Analysis and...|                     23111310|                      Data Analyst|           231113|  Data / Data Minin...|                   2311|        Data Analysis and...|                23|   Information Techn...|15-0000|Computer and Math...|15-2000|Mathematical Scie...|15-2050|Data Scientists|15-2051|Data Scientists|        [\\n  6\\n]|  [\\n  \"Data Privac...|          52|Finance and Insur...|         522|Credit Intermedia...|        5221|Depository Credit...|       52211|  Commercial Banking|      522110|  Commercial Banking|\n",
      "|cb5ca25f02bdf25c1...|        6/19/2024|   2024-06-19 07:00:00|         0|6/2/2024|6/17/2024|      15|[\\n  \"FreeJobBoar...|[\\n  \"craigslist....|[\\n  \"https://mod...|         []|               NULL|Comisiones de $10...|Comisiones de $10...|      6/17/2024|              15|       0|        Unclassified|      LH/GM|              false|      [\\n  99\\n]| [\\n  \"No Educatio...|           99|No Education Listed|         NULL|              NULL|              3|Part-time / full-...|                NULL|                NULL|        false| 92500|          0|          [None]|               year|   150000|      35000|{\\n  \"lat\": 37.63...|    TW9kZXN0bywgQ0E=|  Modesto, CA|  6099|Stanislaus, CA|33700|         Modesto, CA|    6|California|           6099|      Stanislaus, CA|           6099|      Stanislaus, CA|       33700|         Modesto, CA|       33700|         Modesto, CA|    99|Unclassified Indu...|   999|Unclassified Indu...|  9999|Unclassified Indu...| 99999|Unclassified Indu...|999999|Unclassified Indu...|ET0000000000000000|       Unclassified|comisiones de por...|                  []|                  []|                  []|                     []|                  []|                  []|                  []|                  []|                  []|                  []|15-2051.01|Business Intellig...|15-2051.01|Business Intellig...|                  []|                  []|                  []|                  []|                  []|                  []|   15-0000|Computer and Math...|   15-2000|Mathematical Scie...|   15-2050|Data Scientists|   15-2051|Data Scientists|             23|Information Techn...|        231010|Business Intellig...|                  23101012|           Oracle Consultant...|                2310|     Business Intellig...|                     23101012|              Oracle Consultant...|           231010|  Business Intellig...|                   2310|        Business Intellig...|                23|   Information Techn...|15-0000|Computer and Math...|15-2000|Mathematical Scie...|15-2050|Data Scientists|15-2051|Data Scientists|             NULL|                  NULL|          99|Unclassified Indu...|         999|Unclassified Indu...|        9999|Unclassified Indu...|       99999|Unclassified Indu...|      999999|Unclassified Indu...|\n",
      "+--------------------+-----------------+----------------------+----------+--------+---------+--------+--------------------+--------------------+--------------------+-----------+-------------------+--------------------+--------------------+---------------+----------------+--------+--------------------+-----------+-------------------+----------------+---------------------+-------------+-------------------+-------------+------------------+---------------+--------------------+--------------------+--------------------+-------------+------+-----------+----------------+-------------------+---------+-----------+--------------------+--------------------+-------------+------+--------------+-----+--------------------+-----+----------+---------------+--------------------+---------------+--------------------+------------+--------------------+------------+--------------------+------+--------------------+------+--------------------+------+--------------------+------+--------------------+------+--------------------+------------------+-------------------+--------------------+--------------------+--------------------+--------------------+-----------------------+--------------------+--------------------+--------------------+--------------------+--------------------+--------------------+----------+--------------------+----------+--------------------+--------------------+--------------------+--------------------+--------------------+--------------------+--------------------+----------+--------------------+----------+--------------------+----------+---------------+----------+---------------+---------------+--------------------+--------------+--------------------+--------------------------+-------------------------------+--------------------+-------------------------+-----------------------------+----------------------------------+-----------------+----------------------+-----------------------+----------------------------+------------------+-----------------------+-------+--------------------+-------+--------------------+-------+---------------+-------+---------------+-----------------+----------------------+------------+--------------------+------------+--------------------+------------+--------------------+------------+--------------------+------------+--------------------+\n",
      "only showing top 5 rows\n"
     ]
    }
   ],
   "source": [
    "from pyspark.sql import SparkSession\n",
    "import pandas as pd\n",
    "import plotly.express as px\n",
    "import plotly.io as pio\n",
    "import numpy as np\n",
    "\n",
    "np.random.seed(42)\n",
    "\n",
    "pio.renderers.default = \"notebook+notebook_connected+vscode\"\n",
    "\n",
    "# Initialize Spark Session\n",
    "spark = SparkSession.builder.appName(\"LightcastData\").getOrCreate()\n",
    "\n",
    "# Load Data\n",
    "df = spark.read.option(\"header\", \"true\").option(\"inferSchema\", \"true\").option(\"multiLine\",\"true\").option(\"escape\", \"\\\"\").csv(\"lightcast_job_postings.csv\")\n",
    "\n",
    "# Show Schema and Sample Data\n",
    "# print(\"---This is Diagnostic check, No need to print it in the final doc---\")\n",
    "\n",
    "# df.printSchema() # comment this line when rendering the submission\n",
    "# df.show(5)"
   ]
  },
  {
   "cell_type": "code",
   "execution_count": 11,
   "id": "9f65dc2e",
   "metadata": {},
   "outputs": [
    {
     "name": "stdout",
     "output_type": "stream",
     "text": [
      "=== REMOTE_TYPE_NAME VALUE COUNTS AFTER COMBINING ===\n"
     ]
    },
    {
     "name": "stderr",
     "output_type": "stream",
     "text": [
      "                                                                                \r"
     ]
    },
    {
     "name": "stdout",
     "output_type": "stream",
     "text": [
      "+----------------+-----+\n",
      "|REMOTE_TYPE_NAME|count|\n",
      "+----------------+-----+\n",
      "|          Onsite|57741|\n",
      "|          Remote|12497|\n",
      "|          Hybrid| 2260|\n",
      "+----------------+-----+\n",
      "\n"
     ]
    },
    {
     "name": "stderr",
     "output_type": "stream",
     "text": [
      "                                                                                \r"
     ]
    },
    {
     "name": "stdout",
     "output_type": "stream",
     "text": [
      "Original DataFrame count: 72498\n"
     ]
    },
    {
     "name": "stderr",
     "output_type": "stream",
     "text": [
      "                                                                                \r"
     ]
    },
    {
     "name": "stdout",
     "output_type": "stream",
     "text": [
      "Cleaned DataFrame count: 3596\n",
      "\n",
      "Cleaned DataFrame Schema:\n",
      "root\n",
      " |-- MIN_YEARS_EXPERIENCE: integer (nullable = true)\n",
      " |-- MAX_YEARS_EXPERIENCE: integer (nullable = true)\n",
      " |-- SALARY_FROM: integer (nullable = true)\n",
      " |-- MSA_NAME: string (nullable = true)\n",
      " |-- REMOTE_TYPE_NAME: string (nullable = true)\n",
      " |-- SALARY: integer (nullable = true)\n",
      "\n",
      "\n",
      "DataFrame with squared feature:\n",
      "+--------------------+--------------------+-----------+--------------------+----------------+------+-----------------------+\n",
      "|MIN_YEARS_EXPERIENCE|MAX_YEARS_EXPERIENCE|SALARY_FROM|            MSA_NAME|REMOTE_TYPE_NAME|SALARY|MIN_YEARS_EXPERIENCE_SQ|\n",
      "+--------------------+--------------------+-----------+--------------------+----------------+------+-----------------------+\n",
      "|                   2|                   2|      79500|New York-Newark-J...|          Onsite| 92962|                    4.0|\n",
      "|                   2|                   2|      75026|         Jackson, MS|          Onsite| 75026|                    4.0|\n",
      "|                   1|                   1|      60923|       Rochester, NY|          Remote| 60923|                    1.0|\n",
      "|                   2|                   2|     113400|Phoenix-Mesa-Chan...|          Onsite|131100|                    4.0|\n",
      "|                   3|                   3|     115300|Augusta-Watervill...|          Remote|136950|                    9.0|\n",
      "+--------------------+--------------------+-----------+--------------------+----------------+------+-----------------------+\n",
      "only showing top 5 rows\n"
     ]
    },
    {
     "name": "stderr",
     "output_type": "stream",
     "text": [
      "                                                                                \r"
     ]
    },
    {
     "name": "stdout",
     "output_type": "stream",
     "text": [
      "\n",
      "Transformed DataFrame with all features:\n",
      "+--------------------+-----------------------+--------------------+-----------+-------------------------------------+----------------+------+-----------------------------------------------+-----------------------------------------------------+\n",
      "|MIN_YEARS_EXPERIENCE|MIN_YEARS_EXPERIENCE_SQ|MAX_YEARS_EXPERIENCE|SALARY_FROM|MSA_NAME                             |REMOTE_TYPE_NAME|SALARY|features                                       |features_poly                                        |\n",
      "+--------------------+-----------------------+--------------------+-----------+-------------------------------------+----------------+------+-----------------------------------------------+-----------------------------------------------------+\n",
      "|2                   |4.0                    |2                   |79500      |New York-Newark-Jersey City, NY-NJ-PA|Onsite          |92962 |(217,[0,1,2,3,214],[2.0,2.0,79500.0,1.0,1.0])  |(218,[0,1,2,3,4,215],[2.0,4.0,2.0,79500.0,1.0,1.0])  |\n",
      "|2                   |4.0                    |2                   |75026      |Jackson, MS                          |Onsite          |75026 |(217,[0,1,2,20,214],[2.0,2.0,75026.0,1.0,1.0]) |(218,[0,1,2,3,21,215],[2.0,4.0,2.0,75026.0,1.0,1.0]) |\n",
      "|1                   |1.0                    |1                   |60923      |Rochester, NY                        |Remote          |60923 |(217,[0,1,2,70,215],[1.0,1.0,60923.0,1.0,1.0]) |(218,[0,1,2,3,71,216],[1.0,1.0,1.0,60923.0,1.0,1.0]) |\n",
      "|2                   |4.0                    |2                   |113400     |Phoenix-Mesa-Chandler, AZ            |Onsite          |131100|(217,[0,1,2,14,214],[2.0,2.0,113400.0,1.0,1.0])|(218,[0,1,2,3,15,215],[2.0,4.0,2.0,113400.0,1.0,1.0])|\n",
      "|3                   |9.0                    |3                   |115300     |Augusta-Waterville, ME               |Remote          |136950|(217,[0,1,2,53,215],[3.0,3.0,115300.0,1.0,1.0])|(218,[0,1,2,3,54,216],[3.0,9.0,3.0,115300.0,1.0,1.0])|\n",
      "+--------------------+-----------------------+--------------------+-----------+-------------------------------------+----------------+------+-----------------------------------------------+-----------------------------------------------------+\n",
      "only showing top 5 rows\n",
      "\n",
      "=== DATA SPLIT SUMMARY ===\n"
     ]
    },
    {
     "name": "stderr",
     "output_type": "stream",
     "text": [
      "                                                                                \r"
     ]
    },
    {
     "name": "stdout",
     "output_type": "stream",
     "text": [
      "Training set count: 2574 (71.6%)\n"
     ]
    },
    {
     "name": "stderr",
     "output_type": "stream",
     "text": [
      "                                                                                \r"
     ]
    },
    {
     "name": "stdout",
     "output_type": "stream",
     "text": [
      "Testing set count: 1022 (28.4%)\n",
      "Random seed: 42 (for reproducibility)\n",
      "\n",
      "Split Justification:\n",
      "• 70-30 split provides robust model evaluation\n",
      "• Larger test set (30%) improves confidence in performance metrics\n",
      "• Balanced approach for moderate-sized datasets\n",
      "• Alternative splits: 80-20 for large datasets, 60-40 for small datasets\n",
      "\n",
      "=== FINAL DATAFRAME STRUCTURE ===\n",
      "root\n",
      " |-- MIN_YEARS_EXPERIENCE: integer (nullable = true)\n",
      " |-- MAX_YEARS_EXPERIENCE: integer (nullable = true)\n",
      " |-- SALARY_FROM: integer (nullable = true)\n",
      " |-- MSA_NAME: string (nullable = true)\n",
      " |-- REMOTE_TYPE_NAME: string (nullable = true)\n",
      " |-- SALARY: integer (nullable = true)\n",
      " |-- MIN_YEARS_EXPERIENCE_SQ: double (nullable = true)\n",
      " |-- MSA_NAME_INDEX: double (nullable = false)\n",
      " |-- REMOTE_TYPE_NAME_INDEX: double (nullable = false)\n",
      " |-- MSA_NAME_VEC: vector (nullable = true)\n",
      " |-- REMOTE_TYPE_NAME_VEC: vector (nullable = true)\n",
      " |-- features: vector (nullable = true)\n",
      " |-- features_poly: vector (nullable = true)\n",
      "\n",
      "\n",
      "=== SAMPLE OF FINAL DATA ===\n",
      "+--------------------+-----------------------+--------------------+-----------+------+--------------------+\n",
      "|MIN_YEARS_EXPERIENCE|MIN_YEARS_EXPERIENCE_SQ|MAX_YEARS_EXPERIENCE|SALARY_FROM|SALARY|       features_poly|\n",
      "+--------------------+-----------------------+--------------------+-----------+------+--------------------+\n",
      "|                   2|                    4.0|                   2|      79500| 92962|(218,[0,1,2,3,4,2...|\n",
      "|                   2|                    4.0|                   2|      75026| 75026|(218,[0,1,2,3,21,...|\n",
      "|                   1|                    1.0|                   1|      60923| 60923|(218,[0,1,2,3,71,...|\n",
      "|                   2|                    4.0|                   2|     113400|131100|(218,[0,1,2,3,15,...|\n",
      "|                   3|                    9.0|                   3|     115300|136950|(218,[0,1,2,3,54,...|\n",
      "|                   5|                   25.0|                   5|     114000|122500|(218,[0,1,2,3,18,...|\n",
      "|                   2|                    4.0|                   2|      49920| 55120|(218,[0,1,2,3,78,...|\n",
      "|                   3|                    9.0|                   3|     104000|104000|(218,[0,1,2,3,19,...|\n",
      "|                   4|                   16.0|                   4|     124238|145319|(218,[0,1,2,3,92,...|\n",
      "|                   3|                    9.0|                   3|      60000| 80000|(218,[0,1,2,3,61,...|\n",
      "+--------------------+-----------------------+--------------------+-----------+------+--------------------+\n",
      "only showing top 10 rows\n",
      "\n",
      "=== FEATURE STATISTICS ===\n"
     ]
    },
    {
     "name": "stderr",
     "output_type": "stream",
     "text": [
      "                                                                                \r"
     ]
    },
    {
     "name": "stdout",
     "output_type": "stream",
     "text": [
      "+-------+--------------------+-----------------------+--------------------+------------------+------------------+\n",
      "|summary|MIN_YEARS_EXPERIENCE|MIN_YEARS_EXPERIENCE_SQ|MAX_YEARS_EXPERIENCE|       SALARY_FROM|            SALARY|\n",
      "+-------+--------------------+-----------------------+--------------------+------------------+------------------+\n",
      "|  count|                3596|                   3596|                3596|              3596|              3596|\n",
      "|   mean|  3.6384872080088986|       18.9972191323693|  3.6384872080088986| 91714.32619577309| 107798.5881535039|\n",
      "| stddev|   2.400048294044211|     24.190746240439758|   2.400048294044211|32683.349277662266|36636.119374840724|\n",
      "|    min|                   0|                    0.0|                   0|             14000|             31640|\n",
      "|    max|                  12|                  144.0|                  12|            324000|            338750|\n",
      "+-------+--------------------+-----------------------+--------------------+------------------+------------------+\n",
      "\n",
      "\n",
      "=== CATEGORICAL VARIABLE COUNTS ===\n"
     ]
    },
    {
     "name": "stderr",
     "output_type": "stream",
     "text": [
      "                                                                                \r"
     ]
    },
    {
     "name": "stdout",
     "output_type": "stream",
     "text": [
      "MSA_NAME unique values: 211\n"
     ]
    },
    {
     "name": "stderr",
     "output_type": "stream",
     "text": [
      "[Stage 160:>                                                        (0 + 1) / 1]\r"
     ]
    },
    {
     "name": "stdout",
     "output_type": "stream",
     "text": [
      "REMOTE_TYPE_NAME unique values: 3\n",
      "\n",
      "✓ Data preprocessing pipeline completed successfully!\n",
      "✓ Ready for model training with 'features_poly' as input and 'SALARY' as target\n"
     ]
    },
    {
     "name": "stderr",
     "output_type": "stream",
     "text": [
      "                                                                                \r"
     ]
    }
   ],
   "source": [
    "from pyspark.sql import SparkSession\n",
    "from pyspark.ml import Pipeline\n",
    "from pyspark.ml.feature import StringIndexer, OneHotEncoder, VectorAssembler\n",
    "from pyspark.sql.functions import col, pow as spark_pow\n",
    "from pyspark.ml.regression import LinearRegression\n",
    "\n",
    "# Initialize Spark Session (if not already created)\n",
    "spark = SparkSession.builder.appName(\"SalaryPrediction\").getOrCreate()\n",
    "\n",
    "# Assuming df is your existing DataFrame\n",
    "# Step 1: Combine remote type values before cleaning\n",
    "# Combine null, \"[None]\", and \"Onsite\" into \"Onsite\"\n",
    "from pyspark.sql.functions import when, trim\n",
    "\n",
    "df_processed = df.withColumn('REMOTE_TYPE_NAME',\n",
    "    when((col('REMOTE_TYPE_NAME').isNull()) | \n",
    "         (trim(col('REMOTE_TYPE_NAME')) == '[None]') |\n",
    "         (trim(col('REMOTE_TYPE_NAME')) == 'Not Remote' ) |\n",
    "         (trim(col('REMOTE_TYPE_NAME')) == 'Onsite'), 'Onsite')\n",
    "    .when((col('REMOTE_TYPE_NAME') == 'Hybrid Remote'), 'Hybrid')\n",
    "    .otherwise(col('REMOTE_TYPE_NAME'))\n",
    ")\n",
    "\n",
    "print(\"=== REMOTE_TYPE_NAME VALUE COUNTS AFTER COMBINING ===\")\n",
    "df_processed.groupBy('REMOTE_TYPE_NAME').count().orderBy('count', ascending=False).show()\n",
    "\n",
    "# Step 2: Drop rows with missing values in target and key features\n",
    "selected_columns = ['MIN_YEARS_EXPERIENCE', 'MAX_YEARS_EXPERIENCE', 'SALARY_FROM', \n",
    "                   'MSA_NAME', 'REMOTE_TYPE_NAME', 'SALARY']\n",
    "\n",
    "df_clean = df_processed.select(selected_columns).dropna()\n",
    "\n",
    "print(\"Original DataFrame count:\", df.count())\n",
    "print(\"Cleaned DataFrame count:\", df_clean.count())\n",
    "print(\"\\nCleaned DataFrame Schema:\")\n",
    "df_clean.printSchema()\n",
    "\n",
    "# Step 2: Create squared feature for MIN_YEARS_EXPERIENCE\n",
    "df_clean = df_clean.withColumn('MIN_YEARS_EXPERIENCE_SQ', \n",
    "                               spark_pow(col('MIN_YEARS_EXPERIENCE'), 2))\n",
    "\n",
    "print(\"\\nDataFrame with squared feature:\")\n",
    "df_clean.show(5)\n",
    "\n",
    "# Step 3: Create Pipeline for encoding and feature assembly\n",
    "\n",
    "# StringIndexer for categorical variables\n",
    "msa_indexer = StringIndexer(inputCol='MSA_NAME', \n",
    "                            outputCol='MSA_NAME_INDEX',\n",
    "                            handleInvalid='keep')\n",
    "\n",
    "remote_indexer = StringIndexer(inputCol='REMOTE_TYPE_NAME', \n",
    "                               outputCol='REMOTE_TYPE_NAME_INDEX',\n",
    "                               handleInvalid='keep')\n",
    "\n",
    "# OneHotEncoder for categorical variables\n",
    "msa_encoder = OneHotEncoder(inputCol='MSA_NAME_INDEX', \n",
    "                           outputCol='MSA_NAME_VEC',\n",
    "                           dropLast=True)\n",
    "\n",
    "remote_encoder = OneHotEncoder(inputCol='REMOTE_TYPE_NAME_INDEX', \n",
    "                              outputCol='REMOTE_TYPE_NAME_VEC',\n",
    "                              dropLast=True)\n",
    "\n",
    "# VectorAssembler for basic features\n",
    "feature_cols = ['MIN_YEARS_EXPERIENCE', 'MAX_YEARS_EXPERIENCE', 'SALARY_FROM',\n",
    "               'MSA_NAME_VEC', 'REMOTE_TYPE_NAME_VEC']\n",
    "\n",
    "assembler = VectorAssembler(inputCols=feature_cols, \n",
    "                            outputCol='features',\n",
    "                            handleInvalid='keep')\n",
    "\n",
    "# VectorAssembler for polynomial features\n",
    "poly_feature_cols = ['MIN_YEARS_EXPERIENCE', 'MIN_YEARS_EXPERIENCE_SQ', \n",
    "                    'MAX_YEARS_EXPERIENCE', 'SALARY_FROM',\n",
    "                    'MSA_NAME_VEC', 'REMOTE_TYPE_NAME_VEC']\n",
    "\n",
    "poly_assembler = VectorAssembler(inputCols=poly_feature_cols, \n",
    "                                outputCol='features_poly',\n",
    "                                handleInvalid='keep')\n",
    "\n",
    "# Create Pipeline\n",
    "pipeline = Pipeline(stages=[\n",
    "    msa_indexer,\n",
    "    remote_indexer,\n",
    "    msa_encoder,\n",
    "    remote_encoder,\n",
    "    assembler,\n",
    "    poly_assembler\n",
    "])\n",
    "\n",
    "# Fit and transform the data\n",
    "pipeline_model = pipeline.fit(df_clean)\n",
    "df_transformed = pipeline_model.transform(df_clean)\n",
    "\n",
    "print(\"\\nTransformed DataFrame with all features:\")\n",
    "df_transformed.select('MIN_YEARS_EXPERIENCE', 'MIN_YEARS_EXPERIENCE_SQ', \n",
    "                     'MAX_YEARS_EXPERIENCE', 'SALARY_FROM', \n",
    "                     'MSA_NAME', 'REMOTE_TYPE_NAME', 'SALARY',\n",
    "                     'features', 'features_poly').show(5, truncate=False)\n",
    "\n",
    "# Step 4: Split data into training and testing sets\n",
    "# Using 70-30 split for better evaluation capability\n",
    "# Justification:\n",
    "# - 70% training: Provides sufficient data for model to learn patterns\n",
    "# - 30% testing: Larger test set gives more reliable performance metrics\n",
    "# - Good balance for datasets with moderate size (thousands of records)\n",
    "# - Seed=42 ensures reproducibility across runs\n",
    "train_data, test_data = df_transformed.randomSplit([0.7, 0.3], seed=42)\n",
    "\n",
    "print(f\"\\n=== DATA SPLIT SUMMARY ===\")\n",
    "print(f\"Training set count: {train_data.count()} ({train_data.count()/df_transformed.count()*100:.1f}%)\")\n",
    "print(f\"Testing set count: {test_data.count()} ({test_data.count()/df_transformed.count()*100:.1f}%)\")\n",
    "print(f\"Random seed: 42 (for reproducibility)\")\n",
    "print(\"\\nSplit Justification:\")\n",
    "print(\"• 70-30 split provides robust model evaluation\")\n",
    "print(\"• Larger test set (30%) improves confidence in performance metrics\")\n",
    "print(\"• Balanced approach for moderate-sized datasets\")\n",
    "print(\"• Alternative splits: 80-20 for large datasets, 60-40 for small datasets\")\n",
    "\n",
    "# Step 5: Show final structure\n",
    "print(\"\\n=== FINAL DATAFRAME STRUCTURE ===\")\n",
    "df_transformed.printSchema()\n",
    "\n",
    "print(\"\\n=== SAMPLE OF FINAL DATA ===\")\n",
    "df_transformed.select('MIN_YEARS_EXPERIENCE', 'MIN_YEARS_EXPERIENCE_SQ',\n",
    "                     'MAX_YEARS_EXPERIENCE', 'SALARY_FROM',\n",
    "                     'SALARY', 'features_poly').show(10)\n",
    "\n",
    "# Display feature statistics\n",
    "print(\"\\n=== FEATURE STATISTICS ===\")\n",
    "df_transformed.select('MIN_YEARS_EXPERIENCE', 'MIN_YEARS_EXPERIENCE_SQ',\n",
    "                     'MAX_YEARS_EXPERIENCE', 'SALARY_FROM', \n",
    "                     'SALARY').describe().show()\n",
    "\n",
    "# Optional: Show unique values in categorical columns\n",
    "print(\"\\n=== CATEGORICAL VARIABLE COUNTS ===\")\n",
    "print(\"MSA_NAME unique values:\", df_clean.select('MSA_NAME').distinct().count())\n",
    "print(\"REMOTE_TYPE_NAME unique values:\", df_clean.select('REMOTE_TYPE_NAME').distinct().count())\n",
    "\n",
    "# Save transformed data for future use (optional)\n",
    "# df_transformed.write.parquet(\"transformed_salary_data.parquet\", mode='overwrite')\n",
    "\n",
    "print(\"\\n✓ Data preprocessing pipeline completed successfully!\")\n",
    "print(\"✓ Ready for model training with 'features_poly' as input and 'SALARY' as target\")"
   ]
  }
 ],
 "metadata": {
  "kernelspec": {
   "display_name": ".venv",
   "language": "python",
   "name": "python3"
  },
  "language_info": {
   "codemirror_mode": {
    "name": "ipython",
    "version": 3
   },
   "file_extension": ".py",
   "mimetype": "text/x-python",
   "name": "python",
   "nbconvert_exporter": "python",
   "pygments_lexer": "ipython3",
   "version": "3.12.3"
  }
 },
 "nbformat": 4,
 "nbformat_minor": 5
}
